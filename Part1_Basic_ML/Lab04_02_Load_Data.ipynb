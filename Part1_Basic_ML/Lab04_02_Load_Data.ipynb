{
 "cells": [
  {
   "cell_type": "markdown",
   "metadata": {},
   "source": [
    "# Lab 4-2: Load Data"
   ]
  },
  {
   "cell_type": "markdown",
   "metadata": {},
   "source": [
    "#### 학습목표\n",
    "\n",
    "미니배치 경사하강법(Minibatch Gradient descent)를 배우고 Dataset & DataLoader 사용법에 대해 알아본다.\n",
    "\n",
    "#### 핵심키워드\n",
    "\n",
    "- 다항 선형 회귀(Multivariable Linear regression)\n",
    "- 미니배치 경사하강법(Minibatch Gradient descent)\n",
    "- Dataset, DataLoader"
   ]
  },
  {
   "cell_type": "markdown",
   "metadata": {},
   "source": [
    "복잡한 머신러닝 모델을 학습하려면 엄청난 양의 데이터가\n",
    "필요하다!  \n",
    "\n",
    "대부분 데이터셋은 적어도 수십만 개의 데이터를 제공한다.   \n",
    "\n",
    "\n",
    "엄청난 양의 데이터를 한번에 학습시킬 수 없다!\n",
    "- 너무 느리다.\n",
    "- 하드웨어적으로 불가능하다.  \n",
    "\n",
    "그렇다면 일부분의 데이터로만 학습하면 어떨까?"
   ]
  },
  {
   "cell_type": "markdown",
   "metadata": {},
   "source": [
    "![image](https://user-images.githubusercontent.com/84179578/152271912-66a36b2f-3701-49a4-816a-646c44be012a.png)\n",
    "![image](https://user-images.githubusercontent.com/84179578/152271934-b0c95f0a-15e5-489c-b228-148fca8143d8.png)"
   ]
  },
  {
   "cell_type": "code",
   "execution_count": 1,
   "metadata": {},
   "outputs": [],
   "source": [
    "import torch\n",
    "import torch.nn as nn\n",
    "import torch.nn.functional as F\n",
    "import torch.optim as optim"
   ]
  },
  {
   "cell_type": "markdown",
   "metadata": {},
   "source": [
    "## Dataset and DataLoader"
   ]
  },
  {
   "cell_type": "markdown",
   "metadata": {},
   "source": [
    "- torch.utils.data.Dataset 상속\n",
    "- `__len__()`\n",
    "    - 이 데이터셋의 총 데이터 수\n",
    "- `__getitem__()`\n",
    "    - 어떠한 인덱스 idx 를 받았을 때, 그에 상응하는 입출력 데이터 반환\n",
    "    \n",
    "    \n",
    "customdataset 을 구축할때 위의 두가지 magic method 를 필수적으로 지정해줘야한다!  \n",
    "\n",
    "\n",
    "`__init__` (self, 인수들) : 데이터셋을 처음 선언할 때, 즉 데이터셋 오브젝트가 생길 때 자동으로 불리는 함수이고, 여기에 우리가 몇 가지 인수들을 입력받도록 만들 수 있다 (path, transform 같은 것들).  \n",
    "\n",
    "`__len__(self)` : 데이터셋의 길이다. 만약 dataset을 선언하고 나서 len(어떤 dataset)을 하면 내부적으로는 이 len 함수가 불리는 것이다. 이 len은 나중에 데이터셋을 선언하고 데이터로더를 사용할 때 또 내부적으로 사용된다. (데이터셋의 len을 알아야 데이터로더가 미니 배치 샘플링을 하면서 지금 다 돌았는지 아닌지를 알 수 있으니까)  \n",
    "\n",
    "`__getitem__(self, idx)` : 이름에서 알 수 있듯이 데이터셋의 본분인 데이터 하나씩 뽑기이다. idx는 index를 말하는데, 몇 번째 데이터를 뽑을 건지에 대한 변수이다. 이는 데이터로더에서 또 사용될 것이다."
   ]
  },
  {
   "cell_type": "code",
   "execution_count": 2,
   "metadata": {},
   "outputs": [],
   "source": [
    "from torch.utils.data import Dataset\n",
    "\n",
    "class CustomDataset(Dataset):\n",
    "    def __init__(self):\n",
    "        self.x_data = [[73, 80, 75],\n",
    "                       [93, 88, 93],\n",
    "                       [89, 91, 90],\n",
    "                       [96, 98, 100],\n",
    "                       [73, 66, 70]]\n",
    "        \n",
    "        self.y_data = [[152], [185], [180], [196], [142]]\n",
    "        \n",
    "    def __len__(self):\n",
    "        return len(self.x_data)\n",
    "        \n",
    "    def __getitem__(self, idx):\n",
    "        x = torch.FloatTensor(self.x_data[idx])\n",
    "        y = torch.FloatTensor(self.y_data[idx])\n",
    "        return x, y\n",
    "    \n",
    "    \n",
    "dataset = CustomDataset()"
   ]
  },
  {
   "cell_type": "markdown",
   "metadata": {},
   "source": [
    "dataset 을 만든다음으로 dataloader 를 통해 데이터를 불러올 수 있다  \n",
    "\n",
    "![image](https://user-images.githubusercontent.com/84179578/152272678-f63e3416-9a71-4c12-9b9d-e1706a9e124f.png)"
   ]
  },
  {
   "cell_type": "code",
   "execution_count": 3,
   "metadata": {},
   "outputs": [],
   "source": [
    "from torch.utils.data import DataLoader\n",
    "\n",
    "\n",
    "dataloader = DataLoader(\n",
    "    dataset,\n",
    "    batch_size=2,\n",
    "    shuffle=True,\n",
    ")"
   ]
  },
  {
   "cell_type": "markdown",
   "metadata": {},
   "source": [
    "shuffle 은 항상 True 로 하는 것을 추천함"
   ]
  },
  {
   "cell_type": "markdown",
   "metadata": {},
   "source": [
    "최종적으로 위의 dataset 과 dataloader 를 통해 학습을 할 수 있음"
   ]
  },
  {
   "cell_type": "code",
   "execution_count": 4,
   "metadata": {},
   "outputs": [],
   "source": [
    "class MultivariateLinearRegressionModel(nn.Module):\n",
    "    def __init__(self):\n",
    "        super().__init__()\n",
    "        self.linear = nn.Linear(3, 1) # 입력 차원, 출력 차원\n",
    "\n",
    "    def forward(self, x):\n",
    "        return self.linear(x)\n",
    "    \n",
    "    \n",
    "# 모델 초기화\n",
    "model = MultivariateLinearRegressionModel()\n",
    "\n",
    "# optimizer 설정\n",
    "optimizer = optim.SGD(model.parameters(), lr=1e-5)"
   ]
  },
  {
   "cell_type": "code",
   "execution_count": 5,
   "metadata": {},
   "outputs": [
    {
     "name": "stdout",
     "output_type": "stream",
     "text": [
      "Epoch    0/20 Batch 1/3 Cost: 4511.914062\n",
      "Epoch    0/20 Batch 2/3 Cost: 703.825806\n",
      "Epoch    0/20 Batch 3/3 Cost: 218.549866\n",
      "Epoch    1/20 Batch 1/3 Cost: 134.377563\n",
      "Epoch    1/20 Batch 2/3 Cost: 28.320284\n",
      "Epoch    1/20 Batch 3/3 Cost: 24.841713\n",
      "Epoch    2/20 Batch 1/3 Cost: 3.070304\n",
      "Epoch    2/20 Batch 2/3 Cost: 1.786576\n",
      "Epoch    2/20 Batch 3/3 Cost: 0.008982\n",
      "Epoch    3/20 Batch 1/3 Cost: 1.254896\n",
      "Epoch    3/20 Batch 2/3 Cost: 0.506832\n",
      "Epoch    3/20 Batch 3/3 Cost: 2.196489\n",
      "Epoch    4/20 Batch 1/3 Cost: 0.849892\n",
      "Epoch    4/20 Batch 2/3 Cost: 2.248737\n",
      "Epoch    4/20 Batch 3/3 Cost: 0.088225\n",
      "Epoch    5/20 Batch 1/3 Cost: 0.336841\n",
      "Epoch    5/20 Batch 2/3 Cost: 2.605989\n",
      "Epoch    5/20 Batch 3/3 Cost: 0.286392\n",
      "Epoch    6/20 Batch 1/3 Cost: 0.924301\n",
      "Epoch    6/20 Batch 2/3 Cost: 0.911856\n",
      "Epoch    6/20 Batch 3/3 Cost: 1.871539\n",
      "Epoch    7/20 Batch 1/3 Cost: 0.449715\n",
      "Epoch    7/20 Batch 2/3 Cost: 1.413618\n",
      "Epoch    7/20 Batch 3/3 Cost: 2.158527\n",
      "Epoch    8/20 Batch 1/3 Cost: 0.851127\n",
      "Epoch    8/20 Batch 2/3 Cost: 1.194028\n",
      "Epoch    8/20 Batch 3/3 Cost: 0.256033\n",
      "Epoch    9/20 Batch 1/3 Cost: 1.199487\n",
      "Epoch    9/20 Batch 2/3 Cost: 0.588036\n",
      "Epoch    9/20 Batch 3/3 Cost: 0.898729\n",
      "Epoch   10/20 Batch 1/3 Cost: 0.085504\n",
      "Epoch   10/20 Batch 2/3 Cost: 2.428109\n",
      "Epoch   10/20 Batch 3/3 Cost: 1.150637\n",
      "Epoch   11/20 Batch 1/3 Cost: 0.243390\n",
      "Epoch   11/20 Batch 2/3 Cost: 1.463004\n",
      "Epoch   11/20 Batch 3/3 Cost: 1.513453\n",
      "Epoch   12/20 Batch 1/3 Cost: 0.957718\n",
      "Epoch   12/20 Batch 2/3 Cost: 1.468802\n",
      "Epoch   12/20 Batch 3/3 Cost: 1.708666\n",
      "Epoch   13/20 Batch 1/3 Cost: 0.180119\n",
      "Epoch   13/20 Batch 2/3 Cost: 2.207652\n",
      "Epoch   13/20 Batch 3/3 Cost: 1.251110\n",
      "Epoch   14/20 Batch 1/3 Cost: 0.112090\n",
      "Epoch   14/20 Batch 2/3 Cost: 1.386815\n",
      "Epoch   14/20 Batch 3/3 Cost: 1.551571\n",
      "Epoch   15/20 Batch 1/3 Cost: 1.462864\n",
      "Epoch   15/20 Batch 2/3 Cost: 0.789622\n",
      "Epoch   15/20 Batch 3/3 Cost: 1.548417\n",
      "Epoch   16/20 Batch 1/3 Cost: 0.709611\n",
      "Epoch   16/20 Batch 2/3 Cost: 0.986234\n",
      "Epoch   16/20 Batch 3/3 Cost: 1.298242\n",
      "Epoch   17/20 Batch 1/3 Cost: 0.118520\n",
      "Epoch   17/20 Batch 2/3 Cost: 2.317823\n",
      "Epoch   17/20 Batch 3/3 Cost: 1.185964\n",
      "Epoch   18/20 Batch 1/3 Cost: 0.252251\n",
      "Epoch   18/20 Batch 2/3 Cost: 1.228803\n",
      "Epoch   18/20 Batch 3/3 Cost: 1.914830\n",
      "Epoch   19/20 Batch 1/3 Cost: 1.240635\n",
      "Epoch   19/20 Batch 2/3 Cost: 0.821238\n",
      "Epoch   19/20 Batch 3/3 Cost: 0.261450\n",
      "Epoch   20/20 Batch 1/3 Cost: 0.606366\n",
      "Epoch   20/20 Batch 2/3 Cost: 1.092845\n",
      "Epoch   20/20 Batch 3/3 Cost: 0.956150\n"
     ]
    }
   ],
   "source": [
    "nb_epochs = 20\n",
    "for epoch in range(nb_epochs + 1):\n",
    "    for batch_idx, samples in enumerate(dataloader):\n",
    "        x_train, y_train = samples\n",
    "        \n",
    "        # H(x) 계산\n",
    "        prediction = model(x_train)\n",
    "        \n",
    "        # cost 계산\n",
    "        cost = F.mse_loss(prediction, y_train)\n",
    "        \n",
    "        # cost로 H(x) 개선\n",
    "        optimizer.zero_grad()\n",
    "        cost.backward()\n",
    "        optimizer.step()\n",
    "        \n",
    "        print('Epoch {:4d}/{} Batch {}/{} Cost: {:.6f}'.format(\n",
    "        epoch, nb_epochs, batch_idx+1, len(dataloader),\n",
    "        cost.item()\n",
    "        ))\n"
   ]
  },
  {
   "cell_type": "code",
   "execution_count": null,
   "metadata": {},
   "outputs": [],
   "source": []
  }
 ],
 "metadata": {
  "kernelspec": {
   "display_name": "Python 3 (ipykernel)",
   "language": "python",
   "name": "python3"
  },
  "language_info": {
   "codemirror_mode": {
    "name": "ipython",
    "version": 3
   },
   "file_extension": ".py",
   "mimetype": "text/x-python",
   "name": "python",
   "nbconvert_exporter": "python",
   "pygments_lexer": "ipython3",
   "version": "3.9.7"
  }
 },
 "nbformat": 4,
 "nbformat_minor": 2
}
