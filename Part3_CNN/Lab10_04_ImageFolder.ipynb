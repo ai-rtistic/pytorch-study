{
 "cells": [
  {
   "cell_type": "markdown",
   "id": "dd38d152",
   "metadata": {},
   "source": [
    "# Lab 10-4. ImageFolder\n",
    "\n",
    "pytorch torchvision 에서는 이미지를 custom dataset 을 쉽게 만들 수 있게 ImageFolder 라는 기능을 제공합니다.\n",
    "\n",
    "![image](https://user-images.githubusercontent.com/84179578/157383208-085e28d2-9356-4001-ad54-e6c2d813f373.png)"
   ]
  },
  {
   "cell_type": "markdown",
   "id": "e34838f5",
   "metadata": {},
   "source": [
    "`ImageFolder` 를 사용하려면 아래와 같이 데이터 폴더 내에 이미지의 class 별로 폴더를 나누어 저장해야합니다.  \n",
    "\n",
    "![image](https://user-images.githubusercontent.com/84179578/157383398-02e3633e-a241-479f-9c67-4d40363514d8.png)"
   ]
  },
  {
   "cell_type": "code",
   "execution_count": 1,
   "id": "2e11e261",
   "metadata": {},
   "outputs": [],
   "source": [
    "import torch\n",
    "import torch.nn as nn\n",
    "import torchvision\n",
    "from torchvision import transforms\n",
    "from torch.utils.data import DataLoader\n",
    "\n",
    "import os\n",
    "import time\n",
    "from sklearn.metrics import accuracy_score\n",
    "\n",
    "import warnings\n",
    "warnings.filterwarnings(action='ignore')\n",
    "\n",
    "\n",
    "import matplotlib.pyplot as plt\n",
    "%matplotlib inline"
   ]
  },
  {
   "cell_type": "code",
   "execution_count": 2,
   "id": "eebfa572",
   "metadata": {},
   "outputs": [],
   "source": [
    "device = 'cuda' if torch.cuda.is_available() else 'cpu'"
   ]
  },
  {
   "cell_type": "markdown",
   "id": "88f90e37",
   "metadata": {},
   "source": [
    "이번에 사용할 데이터셋은 가위바위보 데이터셋으로 가위, 바위, 보 세가지 클래스가 존재하고 각 클래스마다 100장의 이미지가 있습니다.  \n",
    "\n",
    "아래의 폴더 구조로 되어 있습니다."
   ]
  },
  {
   "cell_type": "code",
   "execution_count": 3,
   "id": "7be8d9dd",
   "metadata": {
    "scrolled": true
   },
   "outputs": [
    {
     "name": "stdout",
     "output_type": "stream",
     "text": [
      "\u001b[01;34mcustom_dataset\u001b[00m\r\n",
      "├── \u001b[01;34mpaper\u001b[00m\r\n",
      "│   ├── \u001b[01;35m0.jpg\u001b[00m\r\n",
      "│   ├── \u001b[01;35m10.jpg\u001b[00m\r\n",
      "│   ├── \u001b[01;35m11.jpg\u001b[00m\r\n",
      "│   ├── \u001b[01;35m12.jpg\u001b[00m\r\n",
      "│   ├── \u001b[01;35m13.jpg\u001b[00m\r\n",
      "│   ├── \u001b[01;35m14.jpg\u001b[00m\r\n",
      "│   ├── \u001b[01;35m15.jpg\u001b[00m\r\n",
      "│   ├── \u001b[01;35m16.jpg\u001b[00m\r\n",
      "│   ├── \u001b[01;35m17.jpg\u001b[00m\r\n",
      "│   ├── \u001b[01;35m18.jpg\u001b[00m\r\n",
      "│   ├── \u001b[01;35m19.jpg\u001b[00m\r\n",
      "│   ├── \u001b[01;35m1.jpg\u001b[00m\r\n",
      "│   ├── \u001b[01;35m20.jpg\u001b[00m\r\n",
      "│   ├── \u001b[01;35m21.jpg\u001b[00m\r\n",
      "│   ├── \u001b[01;35m22.jpg\u001b[00m\r\n",
      "│   ├── \u001b[01;35m23.jpg\u001b[00m\r\n",
      "│   ├── \u001b[01;35m24.jpg\u001b[00m\r\n",
      "│   ├── \u001b[01;35m25.jpg\u001b[00m\r\n",
      "│   ├── \u001b[01;35m26.jpg\u001b[00m\r\n",
      "│   ├── \u001b[01;35m27.jpg\u001b[00m\r\n",
      "│   ├── \u001b[01;35m28.jpg\u001b[00m\r\n",
      "│   ├── \u001b[01;35m29.jpg\u001b[00m\r\n",
      "│   ├── \u001b[01;35m2.jpg\u001b[00m\r\n",
      "│   ├── \u001b[01;35m30.jpg\u001b[00m\r\n",
      "│   ├── \u001b[01;35m31.jpg\u001b[00m\r\n",
      "│   ├── \u001b[01;35m32.jpg\u001b[00m\r\n",
      "│   ├── \u001b[01;35m33.jpg\u001b[00m\r\n",
      "│   ├── \u001b[01;35m34.jpg\u001b[00m\r\n",
      "│   ├── \u001b[01;35m35.jpg\u001b[00m\r\n",
      "│   ├── \u001b[01;35m36.jpg\u001b[00m\r\n",
      "│   ├── \u001b[01;35m37.jpg\u001b[00m\r\n",
      "│   ├── \u001b[01;35m38.jpg\u001b[00m\r\n",
      "│   ├── \u001b[01;35m39.jpg\u001b[00m\r\n",
      "│   ├── \u001b[01;35m3.jpg\u001b[00m\r\n",
      "│   ├── \u001b[01;35m40.jpg\u001b[00m\r\n",
      "│   ├── \u001b[01;35m41.jpg\u001b[00m\r\n",
      "│   ├── \u001b[01;35m42.jpg\u001b[00m\r\n",
      "│   ├── \u001b[01;35m43.jpg\u001b[00m\r\n",
      "│   ├── \u001b[01;35m44.jpg\u001b[00m\r\n",
      "│   ├── \u001b[01;35m45.jpg\u001b[00m\r\n",
      "│   ├── \u001b[01;35m46.jpg\u001b[00m\r\n",
      "│   ├── \u001b[01;35m47.jpg\u001b[00m\r\n",
      "│   ├── \u001b[01;35m48.jpg\u001b[00m\r\n",
      "│   ├── \u001b[01;35m49.jpg\u001b[00m\r\n",
      "│   ├── \u001b[01;35m4.jpg\u001b[00m\r\n",
      "│   ├── \u001b[01;35m50.jpg\u001b[00m\r\n",
      "│   ├── \u001b[01;35m51.jpg\u001b[00m\r\n",
      "│   ├── \u001b[01;35m52.jpg\u001b[00m\r\n",
      "│   ├── \u001b[01;35m53.jpg\u001b[00m\r\n",
      "│   ├── \u001b[01;35m54.jpg\u001b[00m\r\n",
      "│   ├── \u001b[01;35m55.jpg\u001b[00m\r\n",
      "│   ├── \u001b[01;35m56.jpg\u001b[00m\r\n",
      "│   ├── \u001b[01;35m57.jpg\u001b[00m\r\n",
      "│   ├── \u001b[01;35m58.jpg\u001b[00m\r\n",
      "│   ├── \u001b[01;35m59.jpg\u001b[00m\r\n",
      "│   ├── \u001b[01;35m5.jpg\u001b[00m\r\n",
      "│   ├── \u001b[01;35m60.jpg\u001b[00m\r\n",
      "│   ├── \u001b[01;35m61.jpg\u001b[00m\r\n",
      "│   ├── \u001b[01;35m62.jpg\u001b[00m\r\n",
      "│   ├── \u001b[01;35m63.jpg\u001b[00m\r\n",
      "│   ├── \u001b[01;35m64.jpg\u001b[00m\r\n",
      "│   ├── \u001b[01;35m65.jpg\u001b[00m\r\n",
      "│   ├── \u001b[01;35m66.jpg\u001b[00m\r\n",
      "│   ├── \u001b[01;35m67.jpg\u001b[00m\r\n",
      "│   ├── \u001b[01;35m68.jpg\u001b[00m\r\n",
      "│   ├── \u001b[01;35m69.jpg\u001b[00m\r\n",
      "│   ├── \u001b[01;35m6.jpg\u001b[00m\r\n",
      "│   ├── \u001b[01;35m70.jpg\u001b[00m\r\n",
      "│   ├── \u001b[01;35m71.jpg\u001b[00m\r\n",
      "│   ├── \u001b[01;35m72.jpg\u001b[00m\r\n",
      "│   ├── \u001b[01;35m73.jpg\u001b[00m\r\n",
      "│   ├── \u001b[01;35m74.jpg\u001b[00m\r\n",
      "│   ├── \u001b[01;35m75.jpg\u001b[00m\r\n",
      "│   ├── \u001b[01;35m76.jpg\u001b[00m\r\n",
      "│   ├── \u001b[01;35m77.jpg\u001b[00m\r\n",
      "│   ├── \u001b[01;35m78.jpg\u001b[00m\r\n",
      "│   ├── \u001b[01;35m79.jpg\u001b[00m\r\n",
      "│   ├── \u001b[01;35m7.jpg\u001b[00m\r\n",
      "│   ├── \u001b[01;35m80.jpg\u001b[00m\r\n",
      "│   ├── \u001b[01;35m81.jpg\u001b[00m\r\n",
      "│   ├── \u001b[01;35m82.jpg\u001b[00m\r\n",
      "│   ├── \u001b[01;35m83.jpg\u001b[00m\r\n",
      "│   ├── \u001b[01;35m84.jpg\u001b[00m\r\n",
      "│   ├── \u001b[01;35m85.jpg\u001b[00m\r\n",
      "│   ├── \u001b[01;35m86.jpg\u001b[00m\r\n",
      "│   ├── \u001b[01;35m87.jpg\u001b[00m\r\n",
      "│   ├── \u001b[01;35m88.jpg\u001b[00m\r\n",
      "│   ├── \u001b[01;35m89.jpg\u001b[00m\r\n",
      "│   ├── \u001b[01;35m8.jpg\u001b[00m\r\n",
      "│   ├── \u001b[01;35m90.jpg\u001b[00m\r\n",
      "│   ├── \u001b[01;35m91.jpg\u001b[00m\r\n",
      "│   ├── \u001b[01;35m92.jpg\u001b[00m\r\n",
      "│   ├── \u001b[01;35m93.jpg\u001b[00m\r\n",
      "│   ├── \u001b[01;35m94.jpg\u001b[00m\r\n",
      "│   ├── \u001b[01;35m95.jpg\u001b[00m\r\n",
      "│   ├── \u001b[01;35m96.jpg\u001b[00m\r\n",
      "│   ├── \u001b[01;35m97.jpg\u001b[00m\r\n",
      "│   ├── \u001b[01;35m98.jpg\u001b[00m\r\n",
      "│   ├── \u001b[01;35m99.jpg\u001b[00m\r\n",
      "│   ├── \u001b[01;35m9.jpg\u001b[00m\r\n",
      "│   └── \u001b[01;31mpaper.zip\u001b[00m\r\n",
      "├── \u001b[01;34mrock\u001b[00m\r\n",
      "│   ├── \u001b[01;35m0.jpg\u001b[00m\r\n",
      "│   ├── \u001b[01;35m10.jpg\u001b[00m\r\n",
      "│   ├── \u001b[01;35m11.jpg\u001b[00m\r\n",
      "│   ├── \u001b[01;35m12.jpg\u001b[00m\r\n",
      "│   ├── \u001b[01;35m13.jpg\u001b[00m\r\n",
      "│   ├── \u001b[01;35m14.jpg\u001b[00m\r\n",
      "│   ├── \u001b[01;35m15.jpg\u001b[00m\r\n",
      "│   ├── \u001b[01;35m16.jpg\u001b[00m\r\n",
      "│   ├── \u001b[01;35m17.jpg\u001b[00m\r\n",
      "│   ├── \u001b[01;35m18.jpg\u001b[00m\r\n",
      "│   ├── \u001b[01;35m19.jpg\u001b[00m\r\n",
      "│   ├── \u001b[01;35m1.jpg\u001b[00m\r\n",
      "│   ├── \u001b[01;35m20.jpg\u001b[00m\r\n",
      "│   ├── \u001b[01;35m21.jpg\u001b[00m\r\n",
      "│   ├── \u001b[01;35m22.jpg\u001b[00m\r\n",
      "│   ├── \u001b[01;35m23.jpg\u001b[00m\r\n",
      "│   ├── \u001b[01;35m24.jpg\u001b[00m\r\n",
      "│   ├── \u001b[01;35m25.jpg\u001b[00m\r\n",
      "│   ├── \u001b[01;35m26.jpg\u001b[00m\r\n",
      "│   ├── \u001b[01;35m27.jpg\u001b[00m\r\n",
      "│   ├── \u001b[01;35m28.jpg\u001b[00m\r\n",
      "│   ├── \u001b[01;35m29.jpg\u001b[00m\r\n",
      "│   ├── \u001b[01;35m2.jpg\u001b[00m\r\n",
      "│   ├── \u001b[01;35m30.jpg\u001b[00m\r\n",
      "│   ├── \u001b[01;35m31.jpg\u001b[00m\r\n",
      "│   ├── \u001b[01;35m32.jpg\u001b[00m\r\n",
      "│   ├── \u001b[01;35m33.jpg\u001b[00m\r\n",
      "│   ├── \u001b[01;35m34.jpg\u001b[00m\r\n",
      "│   ├── \u001b[01;35m35.jpg\u001b[00m\r\n",
      "│   ├── \u001b[01;35m36.jpg\u001b[00m\r\n",
      "│   ├── \u001b[01;35m37.jpg\u001b[00m\r\n",
      "│   ├── \u001b[01;35m38.jpg\u001b[00m\r\n",
      "│   ├── \u001b[01;35m39.jpg\u001b[00m\r\n",
      "│   ├── \u001b[01;35m3.jpg\u001b[00m\r\n",
      "│   ├── \u001b[01;35m40.jpg\u001b[00m\r\n",
      "│   ├── \u001b[01;35m41.jpg\u001b[00m\r\n",
      "│   ├── \u001b[01;35m42.jpg\u001b[00m\r\n",
      "│   ├── \u001b[01;35m43.jpg\u001b[00m\r\n",
      "│   ├── \u001b[01;35m44.jpg\u001b[00m\r\n",
      "│   ├── \u001b[01;35m45.jpg\u001b[00m\r\n",
      "│   ├── \u001b[01;35m46.jpg\u001b[00m\r\n",
      "│   ├── \u001b[01;35m47.jpg\u001b[00m\r\n",
      "│   ├── \u001b[01;35m48.jpg\u001b[00m\r\n",
      "│   ├── \u001b[01;35m49.jpg\u001b[00m\r\n",
      "│   ├── \u001b[01;35m4.jpg\u001b[00m\r\n",
      "│   ├── \u001b[01;35m50.jpg\u001b[00m\r\n",
      "│   ├── \u001b[01;35m51.jpg\u001b[00m\r\n",
      "│   ├── \u001b[01;35m52.jpg\u001b[00m\r\n",
      "│   ├── \u001b[01;35m53.jpg\u001b[00m\r\n",
      "│   ├── \u001b[01;35m54.jpg\u001b[00m\r\n",
      "│   ├── \u001b[01;35m55.jpg\u001b[00m\r\n",
      "│   ├── \u001b[01;35m56.jpg\u001b[00m\r\n",
      "│   ├── \u001b[01;35m57.jpg\u001b[00m\r\n",
      "│   ├── \u001b[01;35m58.jpg\u001b[00m\r\n",
      "│   ├── \u001b[01;35m59.jpg\u001b[00m\r\n",
      "│   ├── \u001b[01;35m5.jpg\u001b[00m\r\n",
      "│   ├── \u001b[01;35m60.jpg\u001b[00m\r\n",
      "│   ├── \u001b[01;35m61.jpg\u001b[00m\r\n",
      "│   ├── \u001b[01;35m62.jpg\u001b[00m\r\n",
      "│   ├── \u001b[01;35m63.jpg\u001b[00m\r\n",
      "│   ├── \u001b[01;35m64.jpg\u001b[00m\r\n",
      "│   ├── \u001b[01;35m65.jpg\u001b[00m\r\n",
      "│   ├── \u001b[01;35m66.jpg\u001b[00m\r\n",
      "│   ├── \u001b[01;35m67.jpg\u001b[00m\r\n",
      "│   ├── \u001b[01;35m68.jpg\u001b[00m\r\n",
      "│   ├── \u001b[01;35m69.jpg\u001b[00m\r\n",
      "│   ├── \u001b[01;35m6.jpg\u001b[00m\r\n",
      "│   ├── \u001b[01;35m70.jpg\u001b[00m\r\n",
      "│   ├── \u001b[01;35m71.jpg\u001b[00m\r\n",
      "│   ├── \u001b[01;35m72.jpg\u001b[00m\r\n",
      "│   ├── \u001b[01;35m73.jpg\u001b[00m\r\n",
      "│   ├── \u001b[01;35m74.jpg\u001b[00m\r\n",
      "│   ├── \u001b[01;35m75.jpg\u001b[00m\r\n",
      "│   ├── \u001b[01;35m76.jpg\u001b[00m\r\n",
      "│   ├── \u001b[01;35m77.jpg\u001b[00m\r\n",
      "│   ├── \u001b[01;35m78.jpg\u001b[00m\r\n",
      "│   ├── \u001b[01;35m79.jpg\u001b[00m\r\n",
      "│   ├── \u001b[01;35m7.jpg\u001b[00m\r\n",
      "│   ├── \u001b[01;35m80.jpg\u001b[00m\r\n",
      "│   ├── \u001b[01;35m81.jpg\u001b[00m\r\n",
      "│   ├── \u001b[01;35m82.jpg\u001b[00m\r\n",
      "│   ├── \u001b[01;35m83.jpg\u001b[00m\r\n",
      "│   ├── \u001b[01;35m84.jpg\u001b[00m\r\n",
      "│   ├── \u001b[01;35m85.jpg\u001b[00m\r\n",
      "│   ├── \u001b[01;35m86.jpg\u001b[00m\r\n",
      "│   ├── \u001b[01;35m87.jpg\u001b[00m\r\n",
      "│   ├── \u001b[01;35m88.jpg\u001b[00m\r\n",
      "│   ├── \u001b[01;35m89.jpg\u001b[00m\r\n",
      "│   ├── \u001b[01;35m8.jpg\u001b[00m\r\n",
      "│   ├── \u001b[01;35m90.jpg\u001b[00m\r\n",
      "│   ├── \u001b[01;35m91.jpg\u001b[00m\r\n",
      "│   ├── \u001b[01;35m92.jpg\u001b[00m\r\n",
      "│   ├── \u001b[01;35m93.jpg\u001b[00m\r\n",
      "│   ├── \u001b[01;35m94.jpg\u001b[00m\r\n",
      "│   ├── \u001b[01;35m95.jpg\u001b[00m\r\n",
      "│   ├── \u001b[01;35m96.jpg\u001b[00m\r\n",
      "│   ├── \u001b[01;35m97.jpg\u001b[00m\r\n",
      "│   ├── \u001b[01;35m98.jpg\u001b[00m\r\n",
      "│   ├── \u001b[01;35m99.jpg\u001b[00m\r\n",
      "│   ├── \u001b[01;35m9.jpg\u001b[00m\r\n",
      "│   └── \u001b[01;31mrock.zip\u001b[00m\r\n",
      "└── \u001b[01;34mscissor\u001b[00m\r\n",
      "    ├── \u001b[01;35m0.jpg\u001b[00m\r\n",
      "    ├── \u001b[01;35m10.jpg\u001b[00m\r\n",
      "    ├── \u001b[01;35m11.jpg\u001b[00m\r\n",
      "    ├── \u001b[01;35m12.jpg\u001b[00m\r\n",
      "    ├── \u001b[01;35m13.jpg\u001b[00m\r\n",
      "    ├── \u001b[01;35m14.jpg\u001b[00m\r\n",
      "    ├── \u001b[01;35m15.jpg\u001b[00m\r\n",
      "    ├── \u001b[01;35m16.jpg\u001b[00m\r\n",
      "    ├── \u001b[01;35m17.jpg\u001b[00m\r\n",
      "    ├── \u001b[01;35m18.jpg\u001b[00m\r\n",
      "    ├── \u001b[01;35m19.jpg\u001b[00m\r\n",
      "    ├── \u001b[01;35m1.jpg\u001b[00m\r\n",
      "    ├── \u001b[01;35m20.jpg\u001b[00m\r\n",
      "    ├── \u001b[01;35m21.jpg\u001b[00m\r\n",
      "    ├── \u001b[01;35m22.jpg\u001b[00m\r\n",
      "    ├── \u001b[01;35m23.jpg\u001b[00m\r\n",
      "    ├── \u001b[01;35m24.jpg\u001b[00m\r\n",
      "    ├── \u001b[01;35m25.jpg\u001b[00m\r\n",
      "    ├── \u001b[01;35m26.jpg\u001b[00m\r\n",
      "    ├── \u001b[01;35m27.jpg\u001b[00m\r\n",
      "    ├── \u001b[01;35m28.jpg\u001b[00m\r\n",
      "    ├── \u001b[01;35m29.jpg\u001b[00m\r\n",
      "    ├── \u001b[01;35m2.jpg\u001b[00m\r\n",
      "    ├── \u001b[01;35m30.jpg\u001b[00m\r\n",
      "    ├── \u001b[01;35m31.jpg\u001b[00m\r\n",
      "    ├── \u001b[01;35m32.jpg\u001b[00m\r\n",
      "    ├── \u001b[01;35m33.jpg\u001b[00m\r\n",
      "    ├── \u001b[01;35m34.jpg\u001b[00m\r\n",
      "    ├── \u001b[01;35m35.jpg\u001b[00m\r\n",
      "    ├── \u001b[01;35m36.jpg\u001b[00m\r\n",
      "    ├── \u001b[01;35m37.jpg\u001b[00m\r\n",
      "    ├── \u001b[01;35m38.jpg\u001b[00m\r\n",
      "    ├── \u001b[01;35m39.jpg\u001b[00m\r\n",
      "    ├── \u001b[01;35m3.jpg\u001b[00m\r\n",
      "    ├── \u001b[01;35m40.jpg\u001b[00m\r\n",
      "    ├── \u001b[01;35m41.jpg\u001b[00m\r\n",
      "    ├── \u001b[01;35m42.jpg\u001b[00m\r\n",
      "    ├── \u001b[01;35m43.jpg\u001b[00m\r\n",
      "    ├── \u001b[01;35m44.jpg\u001b[00m\r\n",
      "    ├── \u001b[01;35m45.jpg\u001b[00m\r\n",
      "    ├── \u001b[01;35m46.jpg\u001b[00m\r\n",
      "    ├── \u001b[01;35m47.jpg\u001b[00m\r\n",
      "    ├── \u001b[01;35m48.jpg\u001b[00m\r\n",
      "    ├── \u001b[01;35m49.jpg\u001b[00m\r\n",
      "    ├── \u001b[01;35m4.jpg\u001b[00m\r\n",
      "    ├── \u001b[01;35m50.jpg\u001b[00m\r\n",
      "    ├── \u001b[01;35m51.jpg\u001b[00m\r\n",
      "    ├── \u001b[01;35m52.jpg\u001b[00m\r\n",
      "    ├── \u001b[01;35m53.jpg\u001b[00m\r\n",
      "    ├── \u001b[01;35m54.jpg\u001b[00m\r\n",
      "    ├── \u001b[01;35m55.jpg\u001b[00m\r\n",
      "    ├── \u001b[01;35m56.jpg\u001b[00m\r\n",
      "    ├── \u001b[01;35m57.jpg\u001b[00m\r\n",
      "    ├── \u001b[01;35m58.jpg\u001b[00m\r\n",
      "    ├── \u001b[01;35m59.jpg\u001b[00m\r\n",
      "    ├── \u001b[01;35m5.jpg\u001b[00m\r\n",
      "    ├── \u001b[01;35m60.jpg\u001b[00m\r\n",
      "    ├── \u001b[01;35m61.jpg\u001b[00m\r\n",
      "    ├── \u001b[01;35m62.jpg\u001b[00m\r\n",
      "    ├── \u001b[01;35m63.jpg\u001b[00m\r\n",
      "    ├── \u001b[01;35m64.jpg\u001b[00m\r\n",
      "    ├── \u001b[01;35m65.jpg\u001b[00m\r\n",
      "    ├── \u001b[01;35m66.jpg\u001b[00m\r\n",
      "    ├── \u001b[01;35m67.jpg\u001b[00m\r\n",
      "    ├── \u001b[01;35m68.jpg\u001b[00m\r\n",
      "    ├── \u001b[01;35m69.jpg\u001b[00m\r\n",
      "    ├── \u001b[01;35m6.jpg\u001b[00m\r\n",
      "    ├── \u001b[01;35m70.jpg\u001b[00m\r\n",
      "    ├── \u001b[01;35m71.jpg\u001b[00m\r\n",
      "    ├── \u001b[01;35m72.jpg\u001b[00m\r\n",
      "    ├── \u001b[01;35m73.jpg\u001b[00m\r\n",
      "    ├── \u001b[01;35m74.jpg\u001b[00m\r\n",
      "    ├── \u001b[01;35m75.jpg\u001b[00m\r\n",
      "    ├── \u001b[01;35m76.jpg\u001b[00m\r\n",
      "    ├── \u001b[01;35m77.jpg\u001b[00m\r\n",
      "    ├── \u001b[01;35m78.jpg\u001b[00m\r\n",
      "    ├── \u001b[01;35m79.jpg\u001b[00m\r\n",
      "    ├── \u001b[01;35m7.jpg\u001b[00m\r\n",
      "    ├── \u001b[01;35m80.jpg\u001b[00m\r\n",
      "    ├── \u001b[01;35m81.jpg\u001b[00m\r\n",
      "    ├── \u001b[01;35m82.jpg\u001b[00m\r\n",
      "    ├── \u001b[01;35m83.jpg\u001b[00m\r\n",
      "    ├── \u001b[01;35m84.jpg\u001b[00m\r\n",
      "    ├── \u001b[01;35m85.jpg\u001b[00m\r\n",
      "    ├── \u001b[01;35m86.jpg\u001b[00m\r\n",
      "    ├── \u001b[01;35m87.jpg\u001b[00m\r\n",
      "    ├── \u001b[01;35m88.jpg\u001b[00m\r\n",
      "    ├── \u001b[01;35m89.jpg\u001b[00m\r\n",
      "    ├── \u001b[01;35m8.jpg\u001b[00m\r\n",
      "    ├── \u001b[01;35m90.jpg\u001b[00m\r\n",
      "    ├── \u001b[01;35m91.jpg\u001b[00m\r\n",
      "    ├── \u001b[01;35m92.jpg\u001b[00m\r\n",
      "    ├── \u001b[01;35m93.jpg\u001b[00m\r\n",
      "    ├── \u001b[01;35m94.jpg\u001b[00m\r\n",
      "    ├── \u001b[01;35m95.jpg\u001b[00m\r\n",
      "    ├── \u001b[01;35m96.jpg\u001b[00m\r\n",
      "    ├── \u001b[01;35m97.jpg\u001b[00m\r\n",
      "    ├── \u001b[01;35m98.jpg\u001b[00m\r\n",
      "    ├── \u001b[01;35m99.jpg\u001b[00m\r\n",
      "    ├── \u001b[01;35m9.jpg\u001b[00m\r\n",
      "    └── \u001b[01;31mscissor.zip\u001b[00m\r\n",
      "\r\n",
      "3 directories, 303 files\r\n"
     ]
    }
   ],
   "source": [
    "!tree custom_dataset"
   ]
  },
  {
   "cell_type": "markdown",
   "id": "4f90f3ed",
   "metadata": {},
   "source": [
    "라벨은 폴더 순으로 paper, rock, scissor 각각 0, 1, 2 로 라벨링됩니다.  \n"
   ]
  },
  {
   "cell_type": "code",
   "execution_count": 4,
   "id": "75b05dca",
   "metadata": {},
   "outputs": [
    {
     "name": "stdout",
     "output_type": "stream",
     "text": [
      "(224, 224, 3)\n"
     ]
    },
    {
     "data": {
      "text/plain": [
       "<matplotlib.image.AxesImage at 0x7f4cb1951a30>"
      ]
     },
     "execution_count": 4,
     "metadata": {},
     "output_type": "execute_result"
    },
    {
     "data": {
      "image/png": "[encoded data removed]",
      "text/plain": [
       "<Figure size 432x288 with 1 Axes>"
      ]
     },
     "metadata": {
      "needs_background": "light"
     },
     "output_type": "display_data"
    }
   ],
   "source": [
    "sample = plt.imread('custom_dataset/paper/0.jpg')\n",
    "print(sample.shape)\n",
    "plt.imshow(sample)"
   ]
  },
  {
   "cell_type": "markdown",
   "id": "80280cac",
   "metadata": {},
   "source": [
    "## ImageFolder 을 이용한 커스텀데이터셋 구축"
   ]
  },
  {
   "cell_type": "code",
   "execution_count": 5,
   "id": "24abd7be",
   "metadata": {
    "scrolled": false
   },
   "outputs": [],
   "source": [
    "transforms = transforms.Compose([   # Compose : Composes several transforms together.\n",
    "    transforms.Resize((28,28)),\n",
    "    transforms.ToTensor()\n",
    "])\n",
    "\n",
    "\n",
    "dataset = torchvision.datasets.ImageFolder(root=\"custom_dataset\", transform=transforms)"
   ]
  },
  {
   "cell_type": "code",
   "execution_count": 6,
   "id": "a4530f0b",
   "metadata": {},
   "outputs": [
    {
     "name": "stdout",
     "output_type": "stream",
     "text": [
      "torch.Size([3, 28, 28]) \n",
      " label : 0\n"
     ]
    }
   ],
   "source": [
    "for _, value in enumerate(dataset):\n",
    "    data, label = value\n",
    "\n",
    "    print(data.shape, '\\n label :',label)\n",
    "    break"
   ]
  },
  {
   "cell_type": "markdown",
   "id": "d134c72d",
   "metadata": {},
   "source": [
    "## Hyperparameter 설정 및 Dataloader"
   ]
  },
  {
   "cell_type": "code",
   "execution_count": 7,
   "id": "148afceb",
   "metadata": {},
   "outputs": [],
   "source": [
    "BATCH_SIZE =32\n",
    "EPOCHS = 10\n",
    "\n",
    "# train set, test set split \n",
    "train_size = int(0.8 * len(dataset))\n",
    "test_size = len(dataset) - train_size\n",
    "\n",
    "\n",
    "train_dataset, test_dataset = torch.utils.data.random_split(dataset, [train_size, test_size])\n",
    "\n",
    "\n",
    "train_loader = torch.utils.data.DataLoader(train_dataset, batch_size=BATCH_SIZE, shuffle = True)\n",
    "test_loader = torch.utils.data.DataLoader(test_dataset, batch_size=BATCH_SIZE, shuffle = False)"
   ]
  },
  {
   "cell_type": "markdown",
   "id": "01260c54",
   "metadata": {},
   "source": [
    "## Model\n",
    "\n",
    "![image](https://user-images.githubusercontent.com/84179578/157394777-cfcc8b50-3a96-41c9-b9a9-f2832fd42d5d.png)\n"
   ]
  },
  {
   "cell_type": "code",
   "execution_count": 8,
   "id": "716a39f0",
   "metadata": {},
   "outputs": [],
   "source": [
    "class LeNet(nn.Module):\n",
    "    def __init__(self):\n",
    "        super(LeNet, self).__init__()\n",
    "        self.layer1 = nn.Sequential(\n",
    "            nn.Conv2d(3, 16, kernel_size=3),\n",
    "            nn.ReLU(),\n",
    "            nn.MaxPool2d(kernel_size = (2,2), stride=2)\n",
    "        )\n",
    "        self.layer2 = nn.Sequential(\n",
    "            nn.Conv2d(16, 32, kernel_size=3),\n",
    "            nn.ReLU(),\n",
    "            nn.MaxPool2d(kernel_size = (2,2), stride=2)\n",
    "        )\n",
    "        self.fc = nn.Sequential(\n",
    "            nn.Linear(5*5*32, 32),\n",
    "            nn.ReLU(),\n",
    "            nn.Linear(32, 3)\n",
    "        )\n",
    "        \n",
    "    def forward(self, x):\n",
    "        out = self.layer1(x)\n",
    "        # print(out.shape)   # 각 레이어에서 shape 확인할때 좋음\n",
    "        out = self.layer2(out)\n",
    "        # print(out.shape)\n",
    "        out = out.reshape(out.shape[0], -1)\n",
    "        # print(out.shape)\n",
    "        out = self.fc(out)\n",
    "        return out"
   ]
  },
  {
   "cell_type": "code",
   "execution_count": 9,
   "id": "72bdf40b",
   "metadata": {},
   "outputs": [
    {
     "name": "stdout",
     "output_type": "stream",
     "text": [
      "torch.Size([1, 3])\n"
     ]
    }
   ],
   "source": [
    "# 모델이 잘 만들어졌는지 테스트\n",
    "\n",
    "model = LeNet().to(device)\n",
    "x = torch.randn(1,3,28,28).to(device)\n",
    "print(model(x).shape)"
   ]
  },
  {
   "cell_type": "markdown",
   "id": "d05170c8",
   "metadata": {},
   "source": [
    "## Train"
   ]
  },
  {
   "cell_type": "code",
   "execution_count": 10,
   "id": "dbd7e9ef",
   "metadata": {},
   "outputs": [
    {
     "name": "stdout",
     "output_type": "stream",
     "text": [
      "epoch : 1, cost = 1.100920557975769\n",
      "epoch : 2, cost = 1.100142240524292\n",
      "epoch : 3, cost = 1.0998960733413696\n",
      "epoch : 4, cost = 1.0997703075408936\n",
      "epoch : 5, cost = 1.0996301174163818\n",
      "epoch : 6, cost = 1.1000736951828003\n",
      "epoch : 7, cost = 1.1003960371017456\n",
      "epoch : 8, cost = 1.1002211570739746\n",
      "epoch : 9, cost = 1.1008301973342896\n",
      "epoch : 10, cost = 1.100608468055725\n"
     ]
    }
   ],
   "source": [
    "total_batch = len(train_loader)\n",
    "\n",
    "optimizer = torch.optim.Adam(model.parameters(), lr=0.0000001)\n",
    "criterion = nn.CrossEntropyLoss().to(device)\n",
    "\n",
    "\n",
    "for epoch in range(EPOCHS):\n",
    "    avg_cost = 0.0\n",
    "    for num, data in enumerate(train_loader):\n",
    "        imgs, labels = data\n",
    "        imgs = imgs.to(device)\n",
    "        labels = labels.to(device)\n",
    "        \n",
    "        optimizer.zero_grad()\n",
    "        out = model(imgs)\n",
    "        loss = criterion(out, labels)\n",
    "        loss.backward()\n",
    "        optimizer.step()\n",
    "        \n",
    "        avg_cost += loss / total_batch\n",
    "        \n",
    "    print(f'epoch : {epoch+1}, cost = {avg_cost}')\n",
    "        \n"
   ]
  },
  {
   "cell_type": "markdown",
   "id": "82a90f29",
   "metadata": {},
   "source": [
    "## Test"
   ]
  },
  {
   "cell_type": "code",
   "execution_count": 11,
   "id": "1e8db048",
   "metadata": {},
   "outputs": [],
   "source": [
    "# score 계산\n",
    "def accuracy_function(real, pred):               \n",
    "    score = accuracy_score(real, pred)\n",
    "    return score"
   ]
  },
  {
   "cell_type": "code",
   "execution_count": 12,
   "id": "536a7fe9",
   "metadata": {},
   "outputs": [
    {
     "name": "stdout",
     "output_type": "stream",
     "text": [
      "TEST    loss : 1.09717    acc : 0.35000\n"
     ]
    }
   ],
   "source": [
    "model.eval()\n",
    "\n",
    "test_loss = 0\n",
    "test_pred=[]\n",
    "test_y=[]\n",
    "with torch.no_grad():\n",
    "    for batch in (test_loader):\n",
    "        x = torch.tensor(batch[0], dtype=torch.float32, device=device)\n",
    "        y = torch.tensor(batch[1], dtype=torch.long, device=device)\n",
    "        with torch.cuda.amp.autocast():\n",
    "            pred = model(x)\n",
    "        loss = criterion(pred, y)\n",
    "        test_loss += loss.item()/len(test_loader)\n",
    "        test_pred += pred.argmax(1).detach().cpu().numpy().tolist()\n",
    "        test_y += y.detach().cpu().numpy().tolist()\n",
    "    test_acc = accuracy_function(test_y, test_pred)\n",
    "\n",
    "print(f'TEST    loss : {test_loss:.5f}    acc : {test_acc:.5f}')"
   ]
  },
  {
   "cell_type": "markdown",
   "id": "abf2844a",
   "metadata": {},
   "source": [
    "## Model Save"
   ]
  },
  {
   "cell_type": "code",
   "execution_count": 15,
   "id": "d53db776",
   "metadata": {},
   "outputs": [],
   "source": [
    "torch.save(model.state_dict(), 'model/model.pth')"
   ]
  },
  {
   "cell_type": "code",
   "execution_count": 16,
   "id": "7536f8f0",
   "metadata": {},
   "outputs": [
    {
     "data": {
      "text/plain": [
       "<All keys matched successfully>"
      ]
     },
     "execution_count": 16,
     "metadata": {},
     "output_type": "execute_result"
    }
   ],
   "source": [
    "new_model = LeNet().to(device)\n",
    "\n",
    "new_model.load_state_dict(torch.load('model/model.pth'))"
   ]
  },
  {
   "cell_type": "code",
   "execution_count": 23,
   "id": "a3148590",
   "metadata": {},
   "outputs": [
    {
     "name": "stdout",
     "output_type": "stream",
     "text": [
      "tensor([-0.0337,  0.1573,  0.1365], device='cuda:0', grad_fn=<SelectBackward>)\n",
      "tensor([-0.0337,  0.1573,  0.1365], device='cuda:0', grad_fn=<SelectBackward>)\n",
      "tensor([[[True, True, True],\n",
      "         [True, True, True],\n",
      "         [True, True, True]],\n",
      "\n",
      "        [[True, True, True],\n",
      "         [True, True, True],\n",
      "         [True, True, True]],\n",
      "\n",
      "        [[True, True, True],\n",
      "         [True, True, True],\n",
      "         [True, True, True]]], device='cuda:0')\n"
     ]
    }
   ],
   "source": [
    "print(model.layer1[0].weight[0][0][0])\n",
    "print(new_model.layer1[0].weight[0][0][0])\n",
    "\n",
    "print(model.layer1[0].weight[0] == new_model.layer1[0].weight[0])"
   ]
  },
  {
   "cell_type": "code",
   "execution_count": 21,
   "id": "82969224",
   "metadata": {},
   "outputs": [
    {
     "name": "stdout",
     "output_type": "stream",
     "text": [
      "LeNet(\n",
      "  (layer1): Sequential(\n",
      "    (0): Conv2d(3, 16, kernel_size=(3, 3), stride=(1, 1))\n",
      "    (1): ReLU()\n",
      "    (2): MaxPool2d(kernel_size=(2, 2), stride=2, padding=0, dilation=1, ceil_mode=False)\n",
      "  )\n",
      "  (layer2): Sequential(\n",
      "    (0): Conv2d(16, 32, kernel_size=(3, 3), stride=(1, 1))\n",
      "    (1): ReLU()\n",
      "    (2): MaxPool2d(kernel_size=(2, 2), stride=2, padding=0, dilation=1, ceil_mode=False)\n",
      "  )\n",
      "  (fc): Sequential(\n",
      "    (0): Linear(in_features=800, out_features=32, bias=True)\n",
      "    (1): ReLU()\n",
      "    (2): Linear(in_features=32, out_features=3, bias=True)\n",
      "  )\n",
      ")\n"
     ]
    }
   ],
   "source": [
    "print(new_model)"
   ]
  },
  {
   "cell_type": "code",
   "execution_count": null,
   "id": "a90295d0",
   "metadata": {},
   "outputs": [],
   "source": []
  }
 ],
 "metadata": {
  "kernelspec": {
   "display_name": "Python 3 (ipykernel)",
   "language": "python",
   "name": "python3"
  },
  "language_info": {
   "codemirror_mode": {
    "name": "ipython",
    "version": 3
   },
   "file_extension": ".py",
   "mimetype": "text/x-python",
   "name": "python",
   "nbconvert_exporter": "python",
   "pygments_lexer": "ipython3",
   "version": "3.9.7"
  }
 },
 "nbformat": 4,
 "nbformat_minor": 5
}
